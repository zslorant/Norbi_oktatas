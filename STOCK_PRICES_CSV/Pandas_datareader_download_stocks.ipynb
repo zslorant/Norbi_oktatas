{
 "cells": [
  {
   "cell_type": "code",
   "execution_count": 34,
   "id": "plastic-manhattan",
   "metadata": {},
   "outputs": [],
   "source": [
    "import pandas_datareader as pdr\n",
    "import datetime\n",
    "import os"
   ]
  },
  {
   "cell_type": "code",
   "execution_count": 36,
   "id": "composite-female",
   "metadata": {},
   "outputs": [],
   "source": [
    "start = datetime.datetime(2012, 1, 1)\n",
    "end = datetime.datetime.today()\n",
    " \n",
    "data = pdr.get_data_yahoo(ticker, start, end)\n",
    "\n",
    "ticker=\"TSLA\"\n",
    "tesla=pdr.get_data_yahoo(ticker, start, end)\n",
    "\n",
    "ticker=\"F\"\n",
    "ford=pdr.get_data_yahoo(ticker, start, end)\n",
    "\n",
    "ticker=\"GM\"\n",
    "gm=pdr.get_data_yahoo(ticker, start, end)\n",
    "\n",
    "os.chdir(r\"c:\\Lori\\GIT_LORI\\Norbi_anyagok\\STOCK_PRICES_CSV\")\n",
    "tesla.to_csv(\"tesla.csv\")\n",
    "ford.to_csv(\"ford.csv\")\n",
    "gm.to_csv(\"gm.csv\")"
   ]
  }
 ],
 "metadata": {
  "kernelspec": {
   "display_name": "Python 3",
   "language": "python",
   "name": "python3"
  },
  "language_info": {
   "codemirror_mode": {
    "name": "ipython",
    "version": 3
   },
   "file_extension": ".py",
   "mimetype": "text/x-python",
   "name": "python",
   "nbconvert_exporter": "python",
   "pygments_lexer": "ipython3",
   "version": "3.6.12"
  }
 },
 "nbformat": 4,
 "nbformat_minor": 5
}
